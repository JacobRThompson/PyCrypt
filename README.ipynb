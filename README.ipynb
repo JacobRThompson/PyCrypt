{
 "cells": [
  {
   "cell_type": "code",
   "execution_count": 1,
   "metadata": {},
   "outputs": [],
   "source": [
    "import database\n",
    "import core"
   ]
  },
  {
   "cell_type": "markdown",
   "metadata": {},
   "source": [
    "<h1> Character Mapping </h1>"
   ]
  },
  {
   "cell_type": "markdown",
   "metadata": {},
   "source": [
    "<h2><b>database.SaveMap</b>(<i>name, transform, inverse, keywords, options</i>)</h2>\n",
    "\n",
    "<DL>\n",
    "<DT><i>name</i>\n",
    "<DD>The name of the cipher to be added to the database. Will raise an exception the passed name is already taken.\n",
    "<DT><i>transfom</i>\n",
    "<DD>A string consisting of valid python i that transforms plaintext into cypher text. The locals <i>mappedIndices</i> and <i>mapRange</i>, which are generated in the mapping process, are supplied to the formula during execution. See <b>MAPPING_NOTEBOOK</b> for more. Additionally, <i>numpy</i> is automatically imported as <i>np</i> at run time. The names <i>__func_name__</i> , <i>__var_name__</i> , and <i>__class_instance__</i> are reserved and will raise exceptions if used within the formula's text.\n",
    "<DT><i>inverse</i>\n",
    "<DD> if inverse is <i>None</i>, then one will be generated.\n",
    "<DT><i>keywords</i>\n",
    "<DD>A list containing keywords that can be sorted by once cipher is added to database.\n",
    "<DT><i>options</i>\n",
    "<DD>A dictionary in which each key/value pair represents the name and default value of extra locals passed to cipher/inverse. \n",
    "</DL>"
   ]
  },
  {
   "cell_type": "code",
   "execution_count": null,
   "metadata": {},
   "outputs": [],
   "source": []
  },
  {
   "cell_type": "markdown",
   "metadata": {},
   "source": [
    "<h1> Adding, Accessing and Using Ciphers </h1>"
   ]
  },
  {
   "cell_type": "markdown",
   "metadata": {},
   "source": [
    "<h2><b>database.SaveCipher</b>(<i>name, formula, inverse, keywords, options</i>)</h2>\n",
    "\n",
    "Security checks are automatically preformed whenever this function is called.\n",
    "Notably, exceptions will be raised if any security check fails. Additional\n",
    "information is given in\n",
    "<b>SECURITY_NOTEBOOK</b>\n",
    "\n",
    "<DL>\n",
    "<DT><i>name</i>\n",
    "<DD>The name of the cipher to be added to the database. Will raise an exception the passed name is already taken.\n",
    "<DT><i>formula</i>\n",
    "<DD>A string consisting of valid python code that transforms a mapped plaintext array into cypher text. The locals <i>mappedIndices</i> and <i>mapRange</i>, which are generated in the mapping process, are supplied to the formula during execution. See <b>MAPPING_NOTEBOOK</b> for more. Additionally, <i>numpy</i> is automatically imported as <i>np</i> at run time. The names <i>__func_name__</i> , <i>__var_name__</i> , and <i>__class_instance__</i> are reserved and will raise exceptions if used within the formula's text.\n",
    "<DT><i>inverse</i>\n",
    "<DD>Python code that transforms cypher text into plaintext. The rules for the <i>formula</i> parameter apply.\n",
    "<DT><i>keywords</i>\n",
    "<DD>A list containing keywords that can be sorted by once cipher is added to database.\n",
    "<DT><i>options</i>\n",
    "<DD>A dictionary in which each key/value pair represents the name and default value of extra locals passed to cipher/inverse. \n",
    "</DL>"
   ]
  },
  {
   "cell_type": "code",
   "execution_count": 2,
   "metadata": {},
   "outputs": [],
   "source": [
    "# NOTE: This only runs if a vigenere cipher is not aready in the system\n",
    "if len(database.con.run(\"\"\"SELECT 1 FROM ciphers WHERE \"name\"='vigenere'\"\"\")) == 0:\n",
    "\n",
    "    keywords = [\"vigenere\",\"caesar\",\"polyalphabetic\"]\n",
    "    options = {\"cycleKeywordOutsideMap\":False, \"deleteTextOutsideMap\":True}\n",
    "\n",
    "    formulaStr = \"\"\"\n",
    "    assert len(mapRange) == 1 + max(mapRange)\n",
    "\n",
    "    if options[\"cycleKeywordOutsideMap\"]:\n",
    "        offset = np.resize(keys[0], len(text))[mappedIndices]\n",
    "\n",
    "    else:\n",
    "        offset = np.resize(keys[0], len(mappedIndices))\n",
    "\n",
    "    out = (text[mappedIndices] + offset) % len(mapRange)\n",
    "\n",
    "    if not options[\"deleteTextOutsideMap\"]:\n",
    "        out = np.put(text, mappedIndices, out)\n",
    "    \"\"\"\n",
    "\n",
    "    inverseStr = \"\"\"\n",
    "    assert len(mapRange) == 1 + max(mapRange)\n",
    "\n",
    "    if options[\"cycleKeywordOutsideMap\"]:\n",
    "        offset = np.resize(keys[0], len(text))[mappedIndices]\n",
    "    else:\n",
    "        offset = np.resize(keys[0], len(mappedIndices))\n",
    "\n",
    "    if options[\"deleteTextOutsideMap\"]:\n",
    "        out = (text - offset) % len(mapRange)\n",
    "    else:\n",
    "        out = (text[mappedIndices] - offset) % len(mapRange)\n",
    "        out = np.put(text, mappedIndices, out)\n",
    "    \"\"\"\n",
    "\n",
    "    database.SaveCipher(\"vigenere\", formulaStr, inverseStr, keywords, options)"
   ]
  },
  {
   "cell_type": "markdown",
   "metadata": {},
   "source": [
    "<h2><b>database.LoadCipher</b>(<i>identifier</i>)</h2>\n",
    "\n",
    "<DL>\n",
    "<DT><i>identifier</i>\n",
    "<DD>This can be either a sting or an int. If identifier is an integer, <i>LoadCipher( )</i> will return the cipher with that ID. Otherwise, <i>LoadCipher( )</i> will return all ciphers whose name matches the passed identifier.\n",
    "</DL>"
   ]
  },
  {
   "cell_type": "code",
   "execution_count": 3,
   "metadata": {},
   "outputs": [
    {
     "name": "stdout",
     "output_type": "stream",
     "text": [
      "Hash of first cipher: '[-679745061, 1038564999, -428354572, -412549081, -2071110137, -1827022449, 2001695571, 638559363, 595319930, 1491456457, 571760906, 1964182341, 744083102, -1494954262, 1632359335, -1648850155]'\n"
     ]
    }
   ],
   "source": [
    "query  = database.LoadCipher(\"vigenere\")\n",
    "print(f\"Hash of first cipher: '{query[1]}'\")\n"
   ]
  },
  {
   "cell_type": "code",
   "execution_count": null,
   "metadata": {},
   "outputs": [],
   "source": []
  }
 ],
 "metadata": {
  "interpreter": {
   "hash": "765f0e6a717cdef1b96705705fe4f7f20bca40e4a56da864daf3394675fda3ca"
  },
  "kernelspec": {
   "display_name": "Python 3.9.5 64-bit",
   "name": "python3"
  },
  "language_info": {
   "codemirror_mode": {
    "name": "ipython",
    "version": 3
   },
   "file_extension": ".py",
   "mimetype": "text/x-python",
   "name": "python",
   "nbconvert_exporter": "python",
   "pygments_lexer": "ipython3",
   "version": "3.9.5"
  },
  "orig_nbformat": 4
 },
 "nbformat": 4,
 "nbformat_minor": 2
}
