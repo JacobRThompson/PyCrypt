{
 "cells": [
  {
   "cell_type": "code",
   "execution_count": 1,
   "metadata": {},
   "outputs": [],
   "source": [
    "import database\n",
    "import core"
   ]
  },
  {
   "cell_type": "markdown",
   "metadata": {},
   "source": [
    "<h1> Character Mapping </h1>"
   ]
  },
  {
   "cell_type": "markdown",
   "metadata": {},
   "source": [
    "<h2><b>database.SaveMap</b>(<i>name, transform, inverse, keywords</i>)</h2>\n",
    "\n",
    "<DL>\n",
    "<DT><i>name</i>\n",
    "<DD>The name of the cipher to be added to the database. Will raise an exception the passed name is already taken.\n",
    "<DT><i>transfom</i>\n",
    "<DD>A string consisting of valid python that transforms plaintext into cypher text. The locals <i>maskedIndices</i> and <i>mapRange</i>, which are generated in the mapping process, are supplied to the formula during execution. See <b>MAPPING_NOTEBOOK</b> for more. Additionally, <i>numpy</i> is automatically imported as <i>np</i> at run time. The names <i>__func_name__</i> , <i>__var_name__</i> , and <i>__class_instance__</i> are reserved and will raise exceptions if used within the formula's text.\n",
    "<DT><i>inverse</i>\n",
    "<DD> if inverse is <i>None</i>, then one will be generated.\n",
    "<DT><i>keywords</i>\n",
    "<DD>A list containing keywords that can be sorted by once cipher is added to database.\n",
    "</DL>"
   ]
  },
  {
   "cell_type": "code",
   "execution_count": 4,
   "metadata": {},
   "outputs": [
    {
     "ename": "TypeError",
     "evalue": "Object of type int64 is not JSON serializable",
     "output_type": "error",
     "traceback": [
      "\u001b[1;31m---------------------------------------------------------------------------\u001b[0m",
      "\u001b[1;31mTypeError\u001b[0m                                 Traceback (most recent call last)",
      "\u001b[1;32m~\\AppData\\Local\\Temp/ipykernel_13340/356287121.py\u001b[0m in \u001b[0;36m<module>\u001b[1;34m\u001b[0m\n\u001b[0;32m     15\u001b[0m     \u001b[0mkeywords\u001b[0m \u001b[1;33m=\u001b[0m \u001b[1;33m[\u001b[0m\u001b[1;34m\"alpha\"\u001b[0m\u001b[1;33m,\u001b[0m \u001b[1;34m\"lower\"\u001b[0m\u001b[1;33m,\u001b[0m \u001b[1;34m\"ascii\"\u001b[0m\u001b[1;33m,\u001b[0m \u001b[1;34m\"alphabet\"\u001b[0m\u001b[1;33m]\u001b[0m\u001b[1;33m\u001b[0m\u001b[1;33m\u001b[0m\u001b[0m\n\u001b[0;32m     16\u001b[0m \u001b[1;33m\u001b[0m\u001b[0m\n\u001b[1;32m---> 17\u001b[1;33m     \u001b[0mdatabase\u001b[0m\u001b[1;33m.\u001b[0m\u001b[0mSaveMap\u001b[0m\u001b[1;33m(\u001b[0m\u001b[1;34m\"alphaLower\"\u001b[0m\u001b[1;33m,\u001b[0m \u001b[0mtransform\u001b[0m\u001b[1;33m,\u001b[0m \u001b[0minverse\u001b[0m\u001b[1;33m,\u001b[0m \u001b[0mkeywords\u001b[0m\u001b[1;33m)\u001b[0m\u001b[1;33m\u001b[0m\u001b[1;33m\u001b[0m\u001b[0m\n\u001b[0m",
      "\u001b[1;32mc:\\Users\\jacob\\source\\Cryptography\\PyCrypt\\database\\__init__.py\u001b[0m in \u001b[0;36mSaveMap\u001b[1;34m(name, transform, inverse, keywords)\u001b[0m\n\u001b[0;32m    119\u001b[0m     \u001b[0mname\u001b[0m \u001b[1;33m=\u001b[0m \u001b[0mname\u001b[0m\u001b[1;33m.\u001b[0m\u001b[0mreplace\u001b[0m\u001b[1;33m(\u001b[0m\u001b[1;34m\"'\"\u001b[0m\u001b[1;33m,\u001b[0m \u001b[1;34m\"''\"\u001b[0m\u001b[1;33m)\u001b[0m\u001b[1;33m\u001b[0m\u001b[1;33m\u001b[0m\u001b[0m\n\u001b[0;32m    120\u001b[0m \u001b[1;33m\u001b[0m\u001b[0m\n\u001b[1;32m--> 121\u001b[1;33m     \u001b[0mjTransform\u001b[0m\u001b[1;33m,\u001b[0m \u001b[0mjInverse\u001b[0m \u001b[1;33m=\u001b[0m \u001b[0mjson\u001b[0m\u001b[1;33m.\u001b[0m\u001b[0mdumps\u001b[0m\u001b[1;33m(\u001b[0m\u001b[0mtransform\u001b[0m\u001b[1;33m)\u001b[0m\u001b[1;33m,\u001b[0m \u001b[0mjson\u001b[0m\u001b[1;33m.\u001b[0m\u001b[0mdumps\u001b[0m\u001b[1;33m(\u001b[0m\u001b[0minverse\u001b[0m\u001b[1;33m)\u001b[0m\u001b[1;33m\u001b[0m\u001b[1;33m\u001b[0m\u001b[0m\n\u001b[0m\u001b[0;32m    122\u001b[0m \u001b[1;33m\u001b[0m\u001b[0m\n\u001b[0;32m    123\u001b[0m     \u001b[0mqueryStr\u001b[0m \u001b[1;33m=\u001b[0m \u001b[1;34mf\"('{name}','{jTransform}','{jInverse}', ARRAY{keywords})\"\u001b[0m\u001b[1;33m\u001b[0m\u001b[1;33m\u001b[0m\u001b[0m\n",
      "\u001b[1;32m~\\AppData\\Local\\Programs\\Python\\Python39\\lib\\json\\__init__.py\u001b[0m in \u001b[0;36mdumps\u001b[1;34m(obj, skipkeys, ensure_ascii, check_circular, allow_nan, cls, indent, separators, default, sort_keys, **kw)\u001b[0m\n\u001b[0;32m    229\u001b[0m         \u001b[0mcls\u001b[0m \u001b[1;32mis\u001b[0m \u001b[1;32mNone\u001b[0m \u001b[1;32mand\u001b[0m \u001b[0mindent\u001b[0m \u001b[1;32mis\u001b[0m \u001b[1;32mNone\u001b[0m \u001b[1;32mand\u001b[0m \u001b[0mseparators\u001b[0m \u001b[1;32mis\u001b[0m \u001b[1;32mNone\u001b[0m \u001b[1;32mand\u001b[0m\u001b[1;33m\u001b[0m\u001b[1;33m\u001b[0m\u001b[0m\n\u001b[0;32m    230\u001b[0m         default is None and not sort_keys and not kw):\n\u001b[1;32m--> 231\u001b[1;33m         \u001b[1;32mreturn\u001b[0m \u001b[0m_default_encoder\u001b[0m\u001b[1;33m.\u001b[0m\u001b[0mencode\u001b[0m\u001b[1;33m(\u001b[0m\u001b[0mobj\u001b[0m\u001b[1;33m)\u001b[0m\u001b[1;33m\u001b[0m\u001b[1;33m\u001b[0m\u001b[0m\n\u001b[0m\u001b[0;32m    232\u001b[0m     \u001b[1;32mif\u001b[0m \u001b[0mcls\u001b[0m \u001b[1;32mis\u001b[0m \u001b[1;32mNone\u001b[0m\u001b[1;33m:\u001b[0m\u001b[1;33m\u001b[0m\u001b[1;33m\u001b[0m\u001b[0m\n\u001b[0;32m    233\u001b[0m         \u001b[0mcls\u001b[0m \u001b[1;33m=\u001b[0m \u001b[0mJSONEncoder\u001b[0m\u001b[1;33m\u001b[0m\u001b[1;33m\u001b[0m\u001b[0m\n",
      "\u001b[1;32m~\\AppData\\Local\\Programs\\Python\\Python39\\lib\\json\\encoder.py\u001b[0m in \u001b[0;36mencode\u001b[1;34m(self, o)\u001b[0m\n\u001b[0;32m    197\u001b[0m         \u001b[1;31m# exceptions aren't as detailed.  The list call should be roughly\u001b[0m\u001b[1;33m\u001b[0m\u001b[1;33m\u001b[0m\u001b[1;33m\u001b[0m\u001b[0m\n\u001b[0;32m    198\u001b[0m         \u001b[1;31m# equivalent to the PySequence_Fast that ''.join() would do.\u001b[0m\u001b[1;33m\u001b[0m\u001b[1;33m\u001b[0m\u001b[1;33m\u001b[0m\u001b[0m\n\u001b[1;32m--> 199\u001b[1;33m         \u001b[0mchunks\u001b[0m \u001b[1;33m=\u001b[0m \u001b[0mself\u001b[0m\u001b[1;33m.\u001b[0m\u001b[0miterencode\u001b[0m\u001b[1;33m(\u001b[0m\u001b[0mo\u001b[0m\u001b[1;33m,\u001b[0m \u001b[0m_one_shot\u001b[0m\u001b[1;33m=\u001b[0m\u001b[1;32mTrue\u001b[0m\u001b[1;33m)\u001b[0m\u001b[1;33m\u001b[0m\u001b[1;33m\u001b[0m\u001b[0m\n\u001b[0m\u001b[0;32m    200\u001b[0m         \u001b[1;32mif\u001b[0m \u001b[1;32mnot\u001b[0m \u001b[0misinstance\u001b[0m\u001b[1;33m(\u001b[0m\u001b[0mchunks\u001b[0m\u001b[1;33m,\u001b[0m \u001b[1;33m(\u001b[0m\u001b[0mlist\u001b[0m\u001b[1;33m,\u001b[0m \u001b[0mtuple\u001b[0m\u001b[1;33m)\u001b[0m\u001b[1;33m)\u001b[0m\u001b[1;33m:\u001b[0m\u001b[1;33m\u001b[0m\u001b[1;33m\u001b[0m\u001b[0m\n\u001b[0;32m    201\u001b[0m             \u001b[0mchunks\u001b[0m \u001b[1;33m=\u001b[0m \u001b[0mlist\u001b[0m\u001b[1;33m(\u001b[0m\u001b[0mchunks\u001b[0m\u001b[1;33m)\u001b[0m\u001b[1;33m\u001b[0m\u001b[1;33m\u001b[0m\u001b[0m\n",
      "\u001b[1;32m~\\AppData\\Local\\Programs\\Python\\Python39\\lib\\json\\encoder.py\u001b[0m in \u001b[0;36miterencode\u001b[1;34m(self, o, _one_shot)\u001b[0m\n\u001b[0;32m    255\u001b[0m                 \u001b[0mself\u001b[0m\u001b[1;33m.\u001b[0m\u001b[0mkey_separator\u001b[0m\u001b[1;33m,\u001b[0m \u001b[0mself\u001b[0m\u001b[1;33m.\u001b[0m\u001b[0mitem_separator\u001b[0m\u001b[1;33m,\u001b[0m \u001b[0mself\u001b[0m\u001b[1;33m.\u001b[0m\u001b[0msort_keys\u001b[0m\u001b[1;33m,\u001b[0m\u001b[1;33m\u001b[0m\u001b[1;33m\u001b[0m\u001b[0m\n\u001b[0;32m    256\u001b[0m                 self.skipkeys, _one_shot)\n\u001b[1;32m--> 257\u001b[1;33m         \u001b[1;32mreturn\u001b[0m \u001b[0m_iterencode\u001b[0m\u001b[1;33m(\u001b[0m\u001b[0mo\u001b[0m\u001b[1;33m,\u001b[0m \u001b[1;36m0\u001b[0m\u001b[1;33m)\u001b[0m\u001b[1;33m\u001b[0m\u001b[1;33m\u001b[0m\u001b[0m\n\u001b[0m\u001b[0;32m    258\u001b[0m \u001b[1;33m\u001b[0m\u001b[0m\n\u001b[0;32m    259\u001b[0m def _make_iterencode(markers, _default, _encoder, _indent, _floatstr,\n",
      "\u001b[1;32m~\\AppData\\Local\\Programs\\Python\\Python39\\lib\\json\\encoder.py\u001b[0m in \u001b[0;36mdefault\u001b[1;34m(self, o)\u001b[0m\n\u001b[0;32m    177\u001b[0m \u001b[1;33m\u001b[0m\u001b[0m\n\u001b[0;32m    178\u001b[0m         \"\"\"\n\u001b[1;32m--> 179\u001b[1;33m         raise TypeError(f'Object of type {o.__class__.__name__} '\n\u001b[0m\u001b[0;32m    180\u001b[0m                         f'is not JSON serializable')\n\u001b[0;32m    181\u001b[0m \u001b[1;33m\u001b[0m\u001b[0m\n",
      "\u001b[1;31mTypeError\u001b[0m: Object of type int64 is not JSON serializable"
     ]
    }
   ],
   "source": [
    "if len(database.con.run(\"\"\"SELECT 1 FROM maps WHERE \"name\"='alphaLower'\"\"\")) == 0:\n",
    "    transform = {\n",
    "        \"A\":0,  \"a\":0,  \"B\":1,  \"b\":1,  \"C\":2,  \"c\":2,  \"D\":3,  \"d\":3,  \"E\":4,  \"e\":4,\n",
    "        \"F\":5,  \"f\":5,  \"G\":6,  \"g\":6,  \"H\":7,  \"h\":7,  \"I\":8,  \"i\":8,  \"J\":9,  \"j\":9,\n",
    "        \"K\":10, \"k\":10, \"L\":11, \"l\":11, \"M\":12, \"m\":12, \"N\":13, \"n\":13, \"O\":14, \"o\":14,\n",
    "        \"P\":15, \"p\":15, \"Q\":16, \"q\":16, \"R\":17, \"r\":17, \"S\":18, \"s\":18, \"T\":19, \"t\":19,\n",
    "        \"U\":20, \"u\":20, \"V\":21, \"v\":21, \"W\":22, \"w\":22, \"X\":23, \"x\":23, \"Y\":24, \"y\":24,\n",
    "        \"Z\":25, \"z\":25}\n",
    "\n",
    "    t = core.DecompressTransform(transform)[0]\n",
    "    i = core.GenInverseTransform(t)\n",
    "\n",
    "    inverse = core.CompressTransform(i)\n",
    "\n",
    "    keywords = [\"alpha\", \"lower\", \"ascii\", \"alphabet\"]\n",
    "\n",
    "    database.SaveMap(\"alphaLower\", transform, inverse, keywords)"
   ]
  },
  {
   "cell_type": "markdown",
   "metadata": {},
   "source": [
    "<h1> Adding, Accessing and Using Ciphers </h1>"
   ]
  },
  {
   "cell_type": "markdown",
   "metadata": {},
   "source": [
    "<h2><b>database.SaveCipher</b>(<i>name, formula, inverse, keywords, options</i>)</h2>\n",
    "\n",
    "Security checks are automatically preformed whenever this function is called.\n",
    "Notably, exceptions will be raised if any security check fails. Additional\n",
    "information is given in\n",
    "<b>SECURITY_NOTEBOOK</b>\n",
    "\n",
    "<DL>\n",
    "<DT><i>name</i>\n",
    "<DD>The name of the cipher to be added to the database. Will raise an exception the passed name is already taken.\n",
    "<DT><i>formula</i>\n",
    "<DD>A string consisting of valid python code that transforms a mapped plaintext array into cypher text. The locals <i>maskedIndices</i>, <i>mappedIndices</i> and <i>mapRange</i> are generated in the mapping process and then supplied to the formula during execution. See <b>MAPPING_NOTEBOOK</b> for more. Additionally, <i>numpy</i> is automatically imported as <i>np</i> at run time. The names <i>__func_name__</i> , <i>__var_name__</i> , and <i>__class_instance__</i> are reserved and will raise exceptions if used within the formula's text.\n",
    "<DT><i>inverse</i>\n",
    "<DD>Python code that transforms cypher text into plaintext. The rules for the <i>formula</i> parameter apply.\n",
    "<DT><i>keywords</i>\n",
    "<DD>A list containing keywords that can be sorted by once cipher is added to database.\n",
    "<DT><i>options</i>\n",
    "<DD>A dictionary in which each key/value pair represents the name and default value of extra locals passed to cipher/inverse. \n",
    "</DL>"
   ]
  },
  {
   "cell_type": "code",
   "execution_count": 2,
   "metadata": {},
   "outputs": [],
   "source": [
    "# NOTE: This only runs if a vigenere cipher is not aready in the system\n",
    "if len(database.con.run(\"\"\"SELECT 1 FROM ciphers WHERE \"name\"='vigenere'\"\"\")) == 0:\n",
    "\n",
    "    keywords = [\"vigenere\",\"caesar\",\"polyalphabetic\"]\n",
    "    options = {\"cycleKeywordOutsideMap\":False, \"deleteTextOutsideMap\":True}\n",
    "\n",
    "    formulaStr = \"\"\"\n",
    "    assert len(mapRange) == 1 + max(mapRange)\n",
    "\n",
    "    if options[\"cycleKeywordOutsideMap\"]:\n",
    "        offset = np.resize(keys[0], len(text))[mappedIndices]\n",
    "\n",
    "    else:\n",
    "        offset = np.resize(keys[0], len(mappedIndices))\n",
    "\n",
    "    out = (text[mappedIndices] + offset) % len(mapRange)\n",
    "\n",
    "    if not options[\"deleteTextOutsideMap\"]:\n",
    "        out = np.put(text, mappedIndices, out)\n",
    "    \"\"\"\n",
    "\n",
    "    inverseStr = \"\"\"\n",
    "    assert len(mapRange) == 1 + max(mapRange)\n",
    "\n",
    "    if options[\"cycleKeywordOutsideMap\"]:\n",
    "        offset = np.resize(keys[0], len(text))[mappedIndices]\n",
    "    else:\n",
    "        offset = np.resize(keys[0], len(mappedIndices))\n",
    "\n",
    "    if options[\"deleteTextOutsideMap\"]:\n",
    "        out = (text - offset) % len(mapRange)\n",
    "    else:\n",
    "        out = (text[mappedIndices] - offset) % len(mapRange)\n",
    "        out = np.put(text, mappedIndices, out)\n",
    "    \"\"\"\n",
    "\n",
    "    database.SaveCipher(\"vigenere\", formulaStr, inverseStr, keywords, options)"
   ]
  },
  {
   "cell_type": "markdown",
   "metadata": {},
   "source": [
    "<h2><b>database.LoadCipher</b>(<i>identifier</i>)</h2>\n",
    "\n",
    "<DL>\n",
    "<DT><i>identifier</i>\n",
    "<DD>This can be either a sting or an int. If identifier is an integer, <i>LoadCipher( )</i> will return the cipher with that ID. Otherwise, <i>LoadCipher( )</i> will return all ciphers whose name matches the passed identifier.\n",
    "</DL>"
   ]
  },
  {
   "cell_type": "code",
   "execution_count": 3,
   "metadata": {},
   "outputs": [
    {
     "name": "stdout",
     "output_type": "stream",
     "text": [
      "Hash of first cipher: '[-679745061, 1038564999, -428354572, -412549081, -2071110137, -1827022449, 2001695571, 638559363, 595319930, 1491456457, 571760906, 1964182341, 744083102, -1494954262, 1632359335, -1648850155]'\n"
     ]
    }
   ],
   "source": [
    "query  = database.LoadCipher(\"vigenere\")\n",
    "print(f\"Hash of first cipher: '{query[1]}'\")\n"
   ]
  },
  {
   "cell_type": "code",
   "execution_count": null,
   "metadata": {},
   "outputs": [],
   "source": []
  }
 ],
 "metadata": {
  "interpreter": {
   "hash": "765f0e6a717cdef1b96705705fe4f7f20bca40e4a56da864daf3394675fda3ca"
  },
  "kernelspec": {
   "display_name": "Python 3.9.5 64-bit",
   "name": "python3"
  },
  "language_info": {
   "codemirror_mode": {
    "name": "ipython",
    "version": 3
   },
   "file_extension": ".py",
   "mimetype": "text/x-python",
   "name": "python",
   "nbconvert_exporter": "python",
   "pygments_lexer": "ipython3",
   "version": "3.9.5"
  },
  "orig_nbformat": 4
 },
 "nbformat": 4,
 "nbformat_minor": 2
}
