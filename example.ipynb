{
 "cells": [
  {
   "cell_type": "markdown",
   "metadata": {},
   "source": [
    "<h1>PyCrypt</h1>\n",
    "\n",
    "SOME OPENING WORDS 123.\n",
    "\n",
    "<h3>Table of Contents</h3>\n",
    "\n",
    "1. [Introduction](#introduction)\n",
    "2. [Character Mapping](#maps)\n",
    "3. [Adding, Accessing, and Using Ciphers](#ciphers)\n",
    "4. [Security Features](#security)"
   ]
  },
  {
   "cell_type": "markdown",
   "metadata": {},
   "source": [
    "<h1>Introduction</h1><a name=\"intro></a>"
   ]
  },
  {
   "cell_type": "markdown",
   "metadata": {},
   "source": [
    "\n",
    "<h2><b>database.Init()</b></h2>\n",
    "\n",
    "This function is automatically called when importing <code>database</code> and is\n",
    "responsible for establishing a connection to PyCrypt. If the\n",
    "necessary database or user does not exist, they will be created\n",
    "\n",
    "<h2><b>database.con</b></h2>\n",
    "\n",
    "The <code>pg8000.native.Connection</code> object created by calling\n",
    "<code>database.Init()</code>. This is used to interact with the PyCrypt\n",
    "Database. See [pg8000 documentaion](https://github.com/tlocke/pg8000) for more information\n"
   ]
  },
  {
   "cell_type": "code",
   "execution_count": 2,
   "metadata": {},
   "outputs": [],
   "source": [
    "import database\n",
    "import core"
   ]
  },
  {
   "cell_type": "markdown",
   "metadata": {},
   "source": [
    "<h1> Character Mapping </h1> <a name=\"maps\"></a>"
   ]
  },
  {
   "cell_type": "markdown",
   "metadata": {},
   "source": [
    "<h2><b>database.SaveMap</b>(<i>name, transform, inverse, keywords</i>)</h2>\n",
    "\n",
    "<DL>\n",
    "<DT><i>name</i>\n",
    "<DD>The name of the cipher to be added to the database. Will raise an exception the passed name is already taken.\n",
    "<DT><i>transfom</i>\n",
    "<DD>A <code>dict[str, int]</code> defining what value each unicode character maps to.\n",
    "<DT><i>inverse</i>\n",
    "<DD> A <code>dict[int, int]</code> used to reverse the mapping process. if inverse is <code>None</code>, then one will be generated.\n",
    "<DT><i>keywords</i>\n",
    "<DD>A <code>list[str]</code> containing keywords that can be sorted by once cipher is added to database.\n",
    "</DL>"
   ]
  },
  {
   "cell_type": "code",
   "execution_count": 5,
   "metadata": {},
   "outputs": [],
   "source": [
    "if len(database.con.run(\"\"\"SELECT 1 FROM maps WHERE \"name\"='alphaLower'\"\"\")) == 0:\n",
    "    transform = {\n",
    "        \"A\":0,  \"a\":0,  \"B\":1,  \"b\":1,  \"C\":2,  \"c\":2,  \"D\":3,  \"d\":3,  \"E\":4,  \"e\":4,\n",
    "        \"F\":5,  \"f\":5,  \"G\":6,  \"g\":6,  \"H\":7,  \"h\":7,  \"I\":8,  \"i\":8,  \"J\":9,  \"j\":9,\n",
    "        \"K\":10, \"k\":10, \"L\":11, \"l\":11, \"M\":12, \"m\":12, \"N\":13, \"n\":13, \"O\":14, \"o\":14,\n",
    "        \"P\":15, \"p\":15, \"Q\":16, \"q\":16, \"R\":17, \"r\":17, \"S\":18, \"s\":18, \"T\":19, \"t\":19,\n",
    "        \"U\":20, \"u\":20, \"V\":21, \"v\":21, \"W\":22, \"w\":22, \"X\":23, \"x\":23, \"Y\":24, \"y\":24,\n",
    "        \"Z\":25, \"z\":25}\n",
    "\n",
    "    t = core.DecompressTransform(transform)[0]\n",
    "    i = core.GenInverseTransform(t)\n",
    "\n",
    "    inverse = core.CompressInverse(i)\n",
    "\n",
    "    keywords = [\"alpha\", \"lower\", \"ascii\", \"alphabet\"]\n",
    "\n",
    "    database.SaveMap(\"alphaLower\", transform, inverse, keywords)"
   ]
  },
  {
   "cell_type": "markdown",
   "metadata": {},
   "source": [
    "<h2><b>database.LoadMap</b>(<i>identifier</i>)</h2>\n",
    "\n",
    "<DL>\n",
    "<DT><i>identifier</i>\n",
    "<DD>This can be either a sting or an int. If identifier is an integer, <code>database.LoadMap( )</code> will return the map with that ID. Otherwise, it will return all maps whose name matches the passed identifier.\n",
    "</DL>"
   ]
  },
  {
   "cell_type": "code",
   "execution_count": 7,
   "metadata": {},
   "outputs": [
    {
     "name": "stdout",
     "output_type": "stream",
     "text": [
      "Hash of alphaLower map: '[1606611960, -1776562239, -1598481368, -350300958, 324321788, 1933357532, -348273046, 421523614, 257989345, -1447750970, 49653793, -973305549, -1614793560, 137473864, 1730089374, -749819799]'\n"
     ]
    }
   ],
   "source": [
    "query  = database.LoadMap(\"alphaLower\")\n",
    "print(f\"Hash of alphaLower map: '{query[1]}'\")"
   ]
  },
  {
   "cell_type": "markdown",
   "metadata": {},
   "source": [
    "<h1> Adding, Accessing and Using Ciphers </h1> <a name = \"ciphers\"></a>"
   ]
  },
  {
   "cell_type": "markdown",
   "metadata": {},
   "source": [
    "<h2><b>database.SaveCipher</b>(<i>name, formula, inverse, keywords, options</i>)</h2>\n",
    "\n",
    "Security checks are automatically preformed whenever this function is called.\n",
    "Notably, exceptions will be raised if any security check fails. Additional\n",
    "information is given in\n",
    "<b>SECURITY_NOTEBOOK</b>\n",
    "\n",
    "<DL>\n",
    "<DT><i>name</i>\n",
    "<DD>The name of the cipher to be added to the database. Will raise an exception the passed name is already taken.\n",
    "<DT><i>formula</i>\n",
    "<DD>A string consisting of valid python code that transforms a mapped plaintext array into cypher text. The locals <code>maskedIndices</code>, <code>mappedIndices</code> and <code>mapRange</code> are supplied to the formula during execution. Additionally, <code>numpy</code> is automatically imported as <code>np</code> at run time. The names <code>__func_name__</code> , <code>__var_name__</code> , and <code>__class_instance__</code> are reserved and will raise exceptions if used within the formula's text.\n",
    "<DT><i>inverse</i>\n",
    "<DD>Python code that transforms cypher text into plaintext. The rules for the <code>formula</code> parameter apply.\n",
    "<DT><i>keywords</i>\n",
    "<DD>A list containing keywords that can be sorted by once cipher is added to database.\n",
    "<DT><i>options</i>\n",
    "<DD>A dictionary in which each key/value pair represents the name and default value of extra locals passed to cipher/inverse. \n",
    "</DL>"
   ]
  },
  {
   "cell_type": "code",
   "execution_count": 2,
   "metadata": {},
   "outputs": [],
   "source": [
    "# NOTE: This only runs if a vigenere cipher is not aready in the system\n",
    "if len(database.con.run(\"\"\"SELECT 1 FROM ciphers WHERE \"name\"='vigenere'\"\"\")) == 0:\n",
    "\n",
    "    keywords = [\"vigenere\",\"caesar\",\"polyalphabetic\"]\n",
    "    options = {\"cycleKeywordOutsideMap\":False, \"deleteTextOutsideMap\":True}\n",
    "\n",
    "    formulaStr = \"\"\"\n",
    "    assert len(mapRange) == 1 + max(mapRange)\n",
    "\n",
    "    if options[\"cycleKeywordOutsideMap\"]:\n",
    "        offset = np.resize(keys[0], len(text))[mappedIndices]\n",
    "\n",
    "    else:\n",
    "        offset = np.resize(keys[0], len(mappedIndices))\n",
    "\n",
    "    out = (text[mappedIndices] + offset) % len(mapRange)\n",
    "\n",
    "    if not options[\"deleteTextOutsideMap\"]:\n",
    "        out = np.put(text, mappedIndices, out)\n",
    "    \"\"\"\n",
    "\n",
    "    inverseStr = \"\"\"\n",
    "    assert len(mapRange) == 1 + max(mapRange)\n",
    "\n",
    "    if options[\"cycleKeywordOutsideMap\"]:\n",
    "        offset = np.resize(keys[0], len(text))[mappedIndices]\n",
    "    else:\n",
    "        offset = np.resize(keys[0], len(mappedIndices))\n",
    "\n",
    "    if options[\"deleteTextOutsideMap\"]:\n",
    "        out = (text - offset) % len(mapRange)\n",
    "    else:\n",
    "        out = (text[mappedIndices] - offset) % len(mapRange)\n",
    "        out = np.put(text, mappedIndices, out)\n",
    "    \"\"\"\n",
    "\n",
    "    database.SaveCipher(\"vigenere\", formulaStr, inverseStr, keywords, options)"
   ]
  },
  {
   "cell_type": "code",
   "execution_count": null,
   "metadata": {},
   "outputs": [],
   "source": []
  },
  {
   "cell_type": "markdown",
   "metadata": {},
   "source": [
    "<h2><b>database.LoadCipher</b>(<i>identifier</i>)</h2>\n",
    "\n",
    "<DL>\n",
    "<DT><i>identifier</i>\n",
    "<DD>This can be either a sting or an int. If identifier is an integer, <code>database.LoadCipher( )</code> will return the cipher with that ID. Otherwise, it will return all ciphers whose name matches the passed identifier.\n",
    "</DL>"
   ]
  },
  {
   "cell_type": "code",
   "execution_count": 3,
   "metadata": {},
   "outputs": [
    {
     "name": "stdout",
     "output_type": "stream",
     "text": [
      "Hash of first cipher: '[-679745061, 1038564999, -428354572, -412549081, -2071110137, -1827022449, 2001695571, 638559363, 595319930, 1491456457, 571760906, 1964182341, 744083102, -1494954262, 1632359335, -1648850155]'\n"
     ]
    }
   ],
   "source": [
    "query  = database.LoadCipher(\"vigenere\")\n",
    "print(f\"Hash of vigenere cipher: '{query[1]}'\")\n"
   ]
  },
  {
   "cell_type": "markdown",
   "metadata": {},
   "source": [
    "<h1> Security Features</h1> <a name = \"security\"></a>"
   ]
  },
  {
   "cell_type": "markdown",
   "metadata": {},
   "source": []
  }
 ],
 "metadata": {
  "interpreter": {
   "hash": "765f0e6a717cdef1b96705705fe4f7f20bca40e4a56da864daf3394675fda3ca"
  },
  "kernelspec": {
   "display_name": "Python 3.9.5 64-bit",
   "name": "python3"
  },
  "language_info": {
   "codemirror_mode": {
    "name": "ipython",
    "version": 3
   },
   "file_extension": ".py",
   "mimetype": "text/x-python",
   "name": "python",
   "nbconvert_exporter": "python",
   "pygments_lexer": "ipython3",
   "version": "3.9.5"
  },
  "orig_nbformat": 4
 },
 "nbformat": 4,
 "nbformat_minor": 2
}
